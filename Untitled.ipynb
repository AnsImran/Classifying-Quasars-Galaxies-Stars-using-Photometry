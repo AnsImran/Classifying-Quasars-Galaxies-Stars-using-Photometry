{
 "cells": [
  {
   "cell_type": "code",
   "execution_count": 11,
   "id": "6af8f2ab-8cc5-43c1-bfab-da39f3376344",
   "metadata": {},
   "outputs": [],
   "source": [
    "import numpy as np\n",
    "from itertools import permutations\n",
    "\n",
    "def generate_permutation_dict(arr):\n",
    "    \"\"\"\n",
    "    Generate a dictionary of permutations for an input array.\n",
    "\n",
    "    Parameters:\n",
    "    arr (numpy.ndarray or list): Input array containing values to be permuted.\n",
    "\n",
    "    Returns:\n",
    "    dict: A dictionary where keys are permutation labels and values are arrays\n",
    "          representing the input array with values permuted according to each\n",
    "          permutation.\n",
    "    \"\"\"\n",
    "    # Defining the replacement values and their corresponding permutations\n",
    "    replacements = [0, 1, 2]\n",
    "    permutations_list = list(permutations(replacements))\n",
    "    \n",
    "    # Initializing a dictionary to store the reversed permutations\n",
    "    reversed_permutations_dict = {}\n",
    "    \n",
    "    for i, perm in enumerate(permutations_list):\n",
    "        # Creating a key that shows the current permutation\n",
    "        key = f'Permutation_{i+1}: {perm}'\n",
    "        \n",
    "        # Replacing values in the input array using the current permutation\n",
    "        replaced_arr = np.array([perm[replacements.index(val)] for val in arr])\n",
    "        \n",
    "        # Storing the resulting array in the dictionary\n",
    "        reversed_permutations_dict[key] = replaced_arr\n",
    "    \n",
    "    return reversed_permutations_dict\n"
   ]
  },
  {
   "cell_type": "code",
   "execution_count": 12,
   "id": "3333ed30-9e21-4f4a-ada7-4afc7025c668",
   "metadata": {},
   "outputs": [
    {
     "data": {
      "text/plain": [
       "{'Permutation_1: (0, 1, 2)': array([0, 1, 2, 0, 1, 2, 2, 1, 0]),\n",
       " 'Permutation_2: (0, 2, 1)': array([0, 2, 1, 0, 2, 1, 1, 2, 0]),\n",
       " 'Permutation_3: (1, 0, 2)': array([1, 0, 2, 1, 0, 2, 2, 0, 1]),\n",
       " 'Permutation_4: (1, 2, 0)': array([1, 2, 0, 1, 2, 0, 0, 2, 1]),\n",
       " 'Permutation_5: (2, 0, 1)': array([2, 0, 1, 2, 0, 1, 1, 0, 2]),\n",
       " 'Permutation_6: (2, 1, 0)': array([2, 1, 0, 2, 1, 0, 0, 1, 2])}"
      ]
     },
     "execution_count": 12,
     "metadata": {},
     "output_type": "execute_result"
    }
   ],
   "source": [
    "input_arr = [0, 1, 2, 0, 1, 2, 2, 1, 0]\n",
    "result    = generate_permutation_dict(input_arr)\n",
    "result\n"
   ]
  },
  {
   "cell_type": "code",
   "execution_count": null,
   "id": "ca073ec3-3752-4597-ab0c-034811b4feef",
   "metadata": {},
   "outputs": [],
   "source": [
    "                                   [0, 1, 2, 0, 1, 2, 2, 1, 0]                "
   ]
  }
 ],
 "metadata": {
  "kernelspec": {
   "display_name": "Python 3 (ipykernel)",
   "language": "python",
   "name": "python3"
  },
  "language_info": {
   "codemirror_mode": {
    "name": "ipython",
    "version": 3
   },
   "file_extension": ".py",
   "mimetype": "text/x-python",
   "name": "python",
   "nbconvert_exporter": "python",
   "pygments_lexer": "ipython3",
   "version": "3.10.0"
  }
 },
 "nbformat": 4,
 "nbformat_minor": 5
}
