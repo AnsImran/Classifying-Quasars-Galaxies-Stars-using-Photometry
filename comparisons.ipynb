{
 "cells": [
  {
   "cell_type": "code",
   "execution_count": 2,
   "id": "684f3488-13b6-4f87-8ce9-07a04ce513c7",
   "metadata": {},
   "outputs": [],
   "source": [
    "import pandas as pd\n",
    "import numpy as np\n",
    "import helping_functions as hp\n",
    "from tensorflow.keras.models import load_model\n",
    "import pickle\n"
   ]
  },
  {
   "cell_type": "markdown",
   "id": "d58a66c1-7631-40a3-bb05-1bcc769762ac",
   "metadata": {},
   "source": [
    "# Loading the Data"
   ]
  },
  {
   "cell_type": "code",
   "execution_count": 3,
   "id": "3060b327-1b56-4a16-9c2a-edb3a610d670",
   "metadata": {},
   "outputs": [
    {
     "data": {
      "text/html": [
       "<div>\n",
       "<style scoped>\n",
       "    .dataframe tbody tr th:only-of-type {\n",
       "        vertical-align: middle;\n",
       "    }\n",
       "\n",
       "    .dataframe tbody tr th {\n",
       "        vertical-align: top;\n",
       "    }\n",
       "\n",
       "    .dataframe thead th {\n",
       "        text-align: right;\n",
       "    }\n",
       "</style>\n",
       "<table border=\"1\" class=\"dataframe\">\n",
       "  <thead>\n",
       "    <tr style=\"text-align: right;\">\n",
       "      <th></th>\n",
       "      <th>0</th>\n",
       "      <th>1</th>\n",
       "      <th>2</th>\n",
       "      <th>3</th>\n",
       "      <th>4</th>\n",
       "      <th>5</th>\n",
       "      <th>6</th>\n",
       "    </tr>\n",
       "  </thead>\n",
       "  <tbody>\n",
       "    <tr>\n",
       "      <th>0</th>\n",
       "      <td>2.022980</td>\n",
       "      <td>0.925559</td>\n",
       "      <td>0.455061</td>\n",
       "      <td>0.599305</td>\n",
       "      <td>0.557597</td>\n",
       "      <td>3.524226</td>\n",
       "      <td>0.0</td>\n",
       "    </tr>\n",
       "    <tr>\n",
       "      <th>1</th>\n",
       "      <td>-0.660340</td>\n",
       "      <td>-0.097797</td>\n",
       "      <td>0.138946</td>\n",
       "      <td>0.348711</td>\n",
       "      <td>0.451444</td>\n",
       "      <td>0.654151</td>\n",
       "      <td>0.0</td>\n",
       "    </tr>\n",
       "    <tr>\n",
       "      <th>2</th>\n",
       "      <td>-0.295973</td>\n",
       "      <td>0.364379</td>\n",
       "      <td>0.529857</td>\n",
       "      <td>0.679163</td>\n",
       "      <td>0.989666</td>\n",
       "      <td>0.811779</td>\n",
       "      <td>0.0</td>\n",
       "    </tr>\n",
       "    <tr>\n",
       "      <th>3</th>\n",
       "      <td>0.132859</td>\n",
       "      <td>0.297675</td>\n",
       "      <td>0.325755</td>\n",
       "      <td>0.195640</td>\n",
       "      <td>0.127353</td>\n",
       "      <td>1.152801</td>\n",
       "      <td>0.0</td>\n",
       "    </tr>\n",
       "    <tr>\n",
       "      <th>4</th>\n",
       "      <td>-0.018307</td>\n",
       "      <td>0.048564</td>\n",
       "      <td>0.263788</td>\n",
       "      <td>0.430541</td>\n",
       "      <td>0.554153</td>\n",
       "      <td>1.053613</td>\n",
       "      <td>0.0</td>\n",
       "    </tr>\n",
       "    <tr>\n",
       "      <th>...</th>\n",
       "      <td>...</td>\n",
       "      <td>...</td>\n",
       "      <td>...</td>\n",
       "      <td>...</td>\n",
       "      <td>...</td>\n",
       "      <td>...</td>\n",
       "      <td>...</td>\n",
       "    </tr>\n",
       "    <tr>\n",
       "      <th>11374</th>\n",
       "      <td>0.687887</td>\n",
       "      <td>0.561999</td>\n",
       "      <td>2.266019</td>\n",
       "      <td>1.373517</td>\n",
       "      <td>2.197732</td>\n",
       "      <td>-0.779083</td>\n",
       "      <td>2.0</td>\n",
       "    </tr>\n",
       "    <tr>\n",
       "      <th>11375</th>\n",
       "      <td>-1.856476</td>\n",
       "      <td>-1.870988</td>\n",
       "      <td>-1.744060</td>\n",
       "      <td>-1.613501</td>\n",
       "      <td>-1.466746</td>\n",
       "      <td>-0.779022</td>\n",
       "      <td>2.0</td>\n",
       "    </tr>\n",
       "    <tr>\n",
       "      <th>11376</th>\n",
       "      <td>-1.227024</td>\n",
       "      <td>-1.214191</td>\n",
       "      <td>-1.028215</td>\n",
       "      <td>-0.858204</td>\n",
       "      <td>-0.705390</td>\n",
       "      <td>-0.779506</td>\n",
       "      <td>2.0</td>\n",
       "    </tr>\n",
       "    <tr>\n",
       "      <th>11377</th>\n",
       "      <td>-1.612068</td>\n",
       "      <td>-1.707664</td>\n",
       "      <td>-1.362912</td>\n",
       "      <td>-1.090767</td>\n",
       "      <td>-0.896228</td>\n",
       "      <td>-0.779390</td>\n",
       "      <td>2.0</td>\n",
       "    </tr>\n",
       "    <tr>\n",
       "      <th>11378</th>\n",
       "      <td>-1.153421</td>\n",
       "      <td>-1.355874</td>\n",
       "      <td>-1.343686</td>\n",
       "      <td>-1.231856</td>\n",
       "      <td>-1.124360</td>\n",
       "      <td>-0.779361</td>\n",
       "      <td>2.0</td>\n",
       "    </tr>\n",
       "  </tbody>\n",
       "</table>\n",
       "<p>11379 rows × 7 columns</p>\n",
       "</div>"
      ],
      "text/plain": [
       "              0         1         2         3         4         5    6\n",
       "0      2.022980  0.925559  0.455061  0.599305  0.557597  3.524226  0.0\n",
       "1     -0.660340 -0.097797  0.138946  0.348711  0.451444  0.654151  0.0\n",
       "2     -0.295973  0.364379  0.529857  0.679163  0.989666  0.811779  0.0\n",
       "3      0.132859  0.297675  0.325755  0.195640  0.127353  1.152801  0.0\n",
       "4     -0.018307  0.048564  0.263788  0.430541  0.554153  1.053613  0.0\n",
       "...         ...       ...       ...       ...       ...       ...  ...\n",
       "11374  0.687887  0.561999  2.266019  1.373517  2.197732 -0.779083  2.0\n",
       "11375 -1.856476 -1.870988 -1.744060 -1.613501 -1.466746 -0.779022  2.0\n",
       "11376 -1.227024 -1.214191 -1.028215 -0.858204 -0.705390 -0.779506  2.0\n",
       "11377 -1.612068 -1.707664 -1.362912 -1.090767 -0.896228 -0.779390  2.0\n",
       "11378 -1.153421 -1.355874 -1.343686 -1.231856 -1.124360 -0.779361  2.0\n",
       "\n",
       "[11379 rows x 7 columns]"
      ]
     },
     "execution_count": 3,
     "metadata": {},
     "output_type": "execute_result"
    }
   ],
   "source": [
    "df = pd.read_csv('random_testing_data.csv', header = None)\n",
    "df\n"
   ]
  },
  {
   "cell_type": "code",
   "execution_count": 4,
   "id": "1c13bf2e-0011-4bcb-a057-9cdd811d88a4",
   "metadata": {},
   "outputs": [],
   "source": [
    "random_testing_data = np.array(df)\n"
   ]
  },
  {
   "cell_type": "code",
   "execution_count": 5,
   "id": "69c98d73-587a-4c43-9b4c-23c4d9f4d0bd",
   "metadata": {},
   "outputs": [],
   "source": [
    "test_np     = random_testing_data[:,:-1]\n",
    "test_labels = random_testing_data[:,-1]"
   ]
  },
  {
   "cell_type": "markdown",
   "id": "33164249-8e6e-4d94-b856-9e114153ace7",
   "metadata": {},
   "source": [
    "# gmm\n"
   ]
  },
  {
   "cell_type": "code",
   "execution_count": 6,
   "id": "72bc8af1-2930-48f0-84a5-f36ddb9854ef",
   "metadata": {},
   "outputs": [],
   "source": [
    "import pickle\n",
    "\n",
    "# Load the saved gmm model from the file\n",
    "with open('gmm_model.pkl', 'rb') as file:\n",
    "    gmm_model = pickle.load(file)\n"
   ]
  },
  {
   "cell_type": "code",
   "execution_count": 7,
   "id": "5964bd31-7964-4d65-b229-66f4702fd6e2",
   "metadata": {},
   "outputs": [],
   "source": [
    "gmm_probs = gmm_model.predict_proba(test_np)\n"
   ]
  },
  {
   "cell_type": "code",
   "execution_count": 8,
   "id": "d6481878-073b-4add-b255-1384fbd64083",
   "metadata": {},
   "outputs": [
    {
     "data": {
      "text/plain": [
       "array([[1.75972981e-018, 1.00000000e+000, 0.00000000e+000],\n",
       "       [8.91817551e-005, 9.99910818e-001, 1.91253558e-166],\n",
       "       [5.14403437e-004, 9.99485597e-001, 1.24827670e-236],\n",
       "       ...,\n",
       "       [3.13846666e-007, 1.84804806e-005, 9.99981206e-001],\n",
       "       [1.15179520e-005, 8.48758994e-004, 9.99139723e-001],\n",
       "       [4.77720793e-007, 9.68323039e-007, 9.99998554e-001]])"
      ]
     },
     "execution_count": 8,
     "metadata": {},
     "output_type": "execute_result"
    }
   ],
   "source": [
    "gmm_probs\n"
   ]
  },
  {
   "cell_type": "code",
   "execution_count": 9,
   "id": "795457c6-fbe8-489a-902d-8b4dc78be190",
   "metadata": {},
   "outputs": [
    {
     "name": "stdout",
     "output_type": "stream",
     "text": [
      "Correct predictions for permutation(0, 1, 2): 0.23341242639950788\n",
      "Correct predictions for permutation(0, 2, 1): 0.16214078565779066\n",
      "Correct predictions for permutation(1, 0, 2): 0.7289744265752702\n",
      "Correct predictions for permutation(1, 2, 0): 0.502856138500747\n",
      "Correct predictions for permutation(2, 0, 1): 0.26373143509974517\n",
      "Correct predictions for permutation(2, 1, 0): 0.10888478776693909\n"
     ]
    }
   ],
   "source": [
    "input_indices = [0, 1, 2]\n",
    "dict_probs = hp.shuffle_columns(input_indices, gmm_probs)\n",
    "\n",
    "for key, value in dict_probs.items():\n",
    "    print(f'Correct predictions for {key}: {hp.score_calculator(value, test_labels, test_np)}')\n",
    "\n"
   ]
  },
  {
   "cell_type": "code",
   "execution_count": 10,
   "id": "687eced7-5017-47d1-a405-1eb9c1f7da9c",
   "metadata": {},
   "outputs": [],
   "source": [
    "gmm_probs = dict_probs['permutation(1, 0, 2)']\n"
   ]
  },
  {
   "cell_type": "code",
   "execution_count": 11,
   "id": "1da33d61-5fa2-4eb6-8f3f-b7ef00e218c8",
   "metadata": {},
   "outputs": [
    {
     "data": {
      "text/plain": [
       "array([[1.00000000e+000, 1.75972981e-018, 0.00000000e+000],\n",
       "       [9.99910818e-001, 8.91817551e-005, 1.91253558e-166],\n",
       "       [9.99485597e-001, 5.14403437e-004, 1.24827670e-236],\n",
       "       ...,\n",
       "       [1.84804806e-005, 3.13846666e-007, 9.99981206e-001],\n",
       "       [8.48758994e-004, 1.15179520e-005, 9.99139723e-001],\n",
       "       [9.68323039e-007, 4.77720793e-007, 9.99998554e-001]])"
      ]
     },
     "execution_count": 11,
     "metadata": {},
     "output_type": "execute_result"
    }
   ],
   "source": [
    "gmm_probs\n"
   ]
  },
  {
   "cell_type": "code",
   "execution_count": 12,
   "id": "31f37b73-627c-46db-ad05-358e47b03db3",
   "metadata": {
    "scrolled": true
   },
   "outputs": [
    {
     "name": "stdout",
     "output_type": "stream",
     "text": [
      "total_no_of_samples: 11379\n",
      "no_of_samples_of_each_class: 3793\n",
      "\n",
      "predicted_percentage_of_quasars: 36.33886984796555\n",
      "true_percentage_of_quasars: 33.33333333333333\n",
      "\n",
      "predicted_percentage_of_galaxies: 33.35969768872484\n",
      "true_percentage_of_galaxies: 33.33333333333333\n",
      "\n",
      "predicted_percentage_of_stars: 30.30143246330961\n",
      "true_percentage_of_stars: 33.33333333333333\n",
      "\n",
      "no_of_samples_misclassified_as_quasars: 613\n",
      "samples_misclassified_as_quasars_with_probability_greater_than_0.6: 92.16965742251223\n",
      "samples_misclassified_as_quasars_with_probability_greater_than_0.7: 85.31810766721044\n",
      "samples_misclassified_as_quasars_with_probability_greater_than_0.8: 76.99836867862969\n",
      "samples_misclassified_as_quasars_with_probability_greater_than_0.9: 58.23817292006525\n",
      "samples_misclassified_as_quasars_with_probability_greater_than_0.99: 13.70309951060359\n",
      "\n",
      "no_of_samples_correctly_classified_as_quasars: 3522\n",
      "samples_correctly_classified_as_quasars_with_probability_greater_than_0.6: 99.74446337308348\n",
      "samples_correctly_classified_as_quasars_with_probability_greater_than_0.7: 99.23339011925043\n",
      "samples_correctly_classified_as_quasars_with_probability_greater_than_0.8: 98.63713798977854\n",
      "samples_correctly_classified_as_quasars_with_probability_greater_than_0.9: 97.38784781374218\n",
      "samples_correctly_classified_as_quasars_with_probability_greater_than_0.99: 91.22657580919932\n",
      "\n",
      "\n",
      "\n",
      "no_of_samples_misclassified_as_galaxys: 1294\n",
      "samples_misclassified_as_galaxys_with_probability_greater_than_0.6: 97.99072642967542\n",
      "samples_misclassified_as_galaxys_with_probability_greater_than_0.7: 96.13601236476043\n",
      "samples_misclassified_as_galaxys_with_probability_greater_than_0.8: 93.50850077279753\n",
      "samples_misclassified_as_galaxys_with_probability_greater_than_0.9: 90.57187017001546\n",
      "samples_misclassified_as_galaxys_with_probability_greater_than_0.99: 81.68469860896445\n",
      "\n",
      "no_of_samples_correctly_classified_as_galaxys: 2502\n",
      "samples_correctly_classified_as_galaxys_with_probability_greater_than_0.6: 99.36051159072741\n",
      "samples_correctly_classified_as_galaxys_with_probability_greater_than_0.7: 98.56115107913669\n",
      "samples_correctly_classified_as_galaxys_with_probability_greater_than_0.8: 97.52198241406875\n",
      "samples_correctly_classified_as_galaxys_with_probability_greater_than_0.9: 95.92326139088729\n",
      "samples_correctly_classified_as_galaxys_with_probability_greater_than_0.99: 90.84732214228617\n",
      "\n",
      "\n",
      "\n",
      "no_of_samples_misclassified_as_stars: 1177\n",
      "samples_misclassified_as_stars_with_probability_greater_than_0.6: 98.89549702633815\n",
      "samples_misclassified_as_stars_with_probability_greater_than_0.7: 97.87595581988106\n",
      "samples_misclassified_as_stars_with_probability_greater_than_0.8: 96.68649107901444\n",
      "samples_misclassified_as_stars_with_probability_greater_than_0.9: 95.41206457094307\n",
      "samples_misclassified_as_stars_with_probability_greater_than_0.99: 89.63466440101953\n",
      "\n",
      "no_of_samples_correctly_classified_as_stars: 2271\n",
      "samples_correctly_classified_as_stars_with_probability_greater_than_0.6: 98.98723029502422\n",
      "samples_correctly_classified_as_stars_with_probability_greater_than_0.7: 97.97446059004844\n",
      "samples_correctly_classified_as_stars_with_probability_greater_than_0.8: 96.78555702333773\n",
      "samples_correctly_classified_as_stars_with_probability_greater_than_0.9: 94.23161602818142\n",
      "samples_correctly_classified_as_stars_with_probability_greater_than_0.99: 87.36239542051959\n",
      "\n",
      "\n",
      "\n"
     ]
    }
   ],
   "source": [
    "hp.classification_probability_displayer(gmm_probs, test_labels)\n"
   ]
  },
  {
   "cell_type": "markdown",
   "id": "cf0d2049-7a82-4f7e-8c42-7c3a410bcc82",
   "metadata": {},
   "source": [
    "# NN"
   ]
  },
  {
   "cell_type": "code",
   "execution_count": 13,
   "id": "765c3220-ee80-4801-be0d-b4743f08314a",
   "metadata": {},
   "outputs": [],
   "source": [
    "from tensorflow.keras.models import load_model\n",
    "# Loading the saved NN model\n",
    "NN_model = load_model('NN_model.h5')\n"
   ]
  },
  {
   "cell_type": "code",
   "execution_count": 14,
   "id": "a02553f1-a7a5-499a-811e-c614f86ec994",
   "metadata": {},
   "outputs": [
    {
     "name": "stdout",
     "output_type": "stream",
     "text": [
      "356/356 [==============================] - 1s 2ms/step\n"
     ]
    }
   ],
   "source": [
    "NN_probs = NN_model.predict(random_testing_data[:,:-1])\n"
   ]
  },
  {
   "cell_type": "code",
   "execution_count": 15,
   "id": "0b550e58-6e11-4614-9398-7ca7f374b1c2",
   "metadata": {},
   "outputs": [
    {
     "data": {
      "text/plain": [
       "array([[9.99996901e-01, 3.09069696e-06, 0.00000000e+00],\n",
       "       [9.98594105e-01, 1.40592398e-03, 1.86969909e-18],\n",
       "       [9.97208416e-01, 2.79157190e-03, 6.88674066e-20],\n",
       "       ...,\n",
       "       [1.50118096e-04, 2.43363678e-02, 9.75513458e-01],\n",
       "       [1.30901899e-05, 3.54235084e-03, 9.96444523e-01],\n",
       "       [1.00348734e-04, 2.22905986e-02, 9.77609038e-01]], dtype=float32)"
      ]
     },
     "execution_count": 15,
     "metadata": {},
     "output_type": "execute_result"
    }
   ],
   "source": [
    "NN_probs"
   ]
  },
  {
   "cell_type": "code",
   "execution_count": 16,
   "id": "4f3e0f41-ef9e-4782-8d3d-b18ecee58c44",
   "metadata": {
    "scrolled": true
   },
   "outputs": [
    {
     "name": "stdout",
     "output_type": "stream",
     "text": [
      "total_no_of_samples: 11379\n",
      "no_of_samples_of_each_class: 3793\n",
      "\n",
      "predicted_percentage_of_quasars: 32.34027594691977\n",
      "true_percentage_of_quasars: 33.33333333333333\n",
      "\n",
      "predicted_percentage_of_galaxies: 33.94850162580191\n",
      "true_percentage_of_galaxies: 33.33333333333333\n",
      "\n",
      "predicted_percentage_of_stars: 33.71122242727832\n",
      "true_percentage_of_stars: 33.33333333333333\n",
      "\n",
      "no_of_samples_misclassified_as_quasars: 88\n",
      "samples_misclassified_as_quasars_with_probability_greater_than_0.6: 79.54545454545455\n",
      "samples_misclassified_as_quasars_with_probability_greater_than_0.7: 54.54545454545454\n",
      "samples_misclassified_as_quasars_with_probability_greater_than_0.8: 38.63636363636363\n",
      "samples_misclassified_as_quasars_with_probability_greater_than_0.9: 22.727272727272727\n",
      "samples_misclassified_as_quasars_with_probability_greater_than_0.99: 2.272727272727273\n",
      "\n",
      "no_of_samples_correctly_classified_as_quasars: 3592\n",
      "samples_correctly_classified_as_quasars_with_probability_greater_than_0.6: 99.3596881959911\n",
      "samples_correctly_classified_as_quasars_with_probability_greater_than_0.7: 98.58017817371937\n",
      "samples_correctly_classified_as_quasars_with_probability_greater_than_0.8: 97.07683741648107\n",
      "samples_correctly_classified_as_quasars_with_probability_greater_than_0.9: 94.29287305122494\n",
      "samples_correctly_classified_as_quasars_with_probability_greater_than_0.99: 79.14810690423162\n",
      "\n",
      "\n",
      "\n",
      "no_of_samples_misclassified_as_galaxys: 209\n",
      "samples_misclassified_as_galaxys_with_probability_greater_than_0.6: 82.29665071770334\n",
      "samples_misclassified_as_galaxys_with_probability_greater_than_0.7: 65.07177033492823\n",
      "samples_misclassified_as_galaxys_with_probability_greater_than_0.8: 51.196172248803826\n",
      "samples_misclassified_as_galaxys_with_probability_greater_than_0.9: 32.057416267942585\n",
      "samples_misclassified_as_galaxys_with_probability_greater_than_0.99: 1.9138755980861244\n",
      "\n",
      "no_of_samples_correctly_classified_as_galaxys: 3654\n",
      "samples_correctly_classified_as_galaxys_with_probability_greater_than_0.6: 98.85057471264368\n",
      "samples_correctly_classified_as_galaxys_with_probability_greater_than_0.7: 96.85276409414341\n",
      "samples_correctly_classified_as_galaxys_with_probability_greater_than_0.8: 93.81499726327313\n",
      "samples_correctly_classified_as_galaxys_with_probability_greater_than_0.9: 87.49315818281336\n",
      "samples_correctly_classified_as_galaxys_with_probability_greater_than_0.99: 27.42200328407225\n",
      "\n",
      "\n",
      "\n",
      "no_of_samples_misclassified_as_stars: 53\n",
      "samples_misclassified_as_stars_with_probability_greater_than_0.6: 98.11320754716981\n",
      "samples_misclassified_as_stars_with_probability_greater_than_0.7: 86.79245283018868\n",
      "samples_misclassified_as_stars_with_probability_greater_than_0.8: 75.47169811320755\n",
      "samples_misclassified_as_stars_with_probability_greater_than_0.9: 54.71698113207547\n",
      "samples_misclassified_as_stars_with_probability_greater_than_0.99: 13.20754716981132\n",
      "\n",
      "no_of_samples_correctly_classified_as_stars: 3783\n",
      "samples_correctly_classified_as_stars_with_probability_greater_than_0.6: 99.84139571768438\n",
      "samples_correctly_classified_as_stars_with_probability_greater_than_0.7: 99.41845096484272\n",
      "samples_correctly_classified_as_stars_with_probability_greater_than_0.8: 98.94263811789585\n",
      "samples_correctly_classified_as_stars_with_probability_greater_than_0.9: 95.1890034364261\n",
      "samples_correctly_classified_as_stars_with_probability_greater_than_0.99: 21.808088818398097\n",
      "\n",
      "\n",
      "\n"
     ]
    }
   ],
   "source": [
    "hp.classification_probability_displayer(NN_probs, test_labels)\n"
   ]
  },
  {
   "cell_type": "code",
   "execution_count": 17,
   "id": "c38dd7f6-88f4-4e87-8685-d9d0e9c39ad6",
   "metadata": {},
   "outputs": [
    {
     "name": "stdout",
     "output_type": "stream",
     "text": [
      "2\n",
      "\n"
     ]
    },
    {
     "data": {
      "text/plain": [
       "3"
      ]
     },
     "execution_count": 17,
     "metadata": {},
     "output_type": "execute_result"
    }
   ],
   "source": [
    "print(2)\n",
    "print()\n",
    "3"
   ]
  },
  {
   "cell_type": "markdown",
   "id": "99020d3f-2d6c-4578-a6f7-ced0ce9a7f0b",
   "metadata": {},
   "source": [
    "# XGBoost"
   ]
  },
  {
   "cell_type": "code",
   "execution_count": 18,
   "id": "400be25c-a5c5-445d-b97e-98c1865876b2",
   "metadata": {},
   "outputs": [],
   "source": [
    "#import pickle\n",
    "\n",
    "# Loading the saved XGBoost model from the file\n",
    "with open('XGB_model.pkl', 'rb') as file:\n",
    "    XGB_model = pickle.load(file)\n"
   ]
  },
  {
   "cell_type": "code",
   "execution_count": 19,
   "id": "4a9d7ba3-f48f-4042-a9ad-ee9b333b6f26",
   "metadata": {},
   "outputs": [],
   "source": [
    "XGB_probs = XGB_model.predict_proba(random_testing_data[:,:-1])\n"
   ]
  },
  {
   "cell_type": "code",
   "execution_count": 20,
   "id": "026366ba-a07f-4e40-b8b4-aafad41313d4",
   "metadata": {},
   "outputs": [
    {
     "data": {
      "text/plain": [
       "array([[9.99961853e-01, 3.58147663e-05, 2.37124823e-06],\n",
       "       [9.99878168e-01, 1.21534205e-04, 3.28180988e-07],\n",
       "       [9.98287022e-01, 1.70965376e-03, 3.35083496e-06],\n",
       "       ...,\n",
       "       [5.14715225e-07, 8.68388997e-06, 9.99990821e-01],\n",
       "       [1.01231069e-06, 3.70323723e-05, 9.99961972e-01],\n",
       "       [6.33698505e-07, 9.12201813e-06, 9.99990225e-01]], dtype=float32)"
      ]
     },
     "execution_count": 20,
     "metadata": {},
     "output_type": "execute_result"
    }
   ],
   "source": [
    "XGB_probs"
   ]
  },
  {
   "cell_type": "code",
   "execution_count": 21,
   "id": "7af16a6c-f57f-495c-a81d-9b5c4fc92af4",
   "metadata": {},
   "outputs": [
    {
     "name": "stdout",
     "output_type": "stream",
     "text": [
      "total_no_of_samples: 11379\n",
      "no_of_samples_of_each_class: 3793\n",
      "\n",
      "predicted_percentage_of_quasars: 32.64786009315406\n",
      "true_percentage_of_quasars: 33.33333333333333\n",
      "\n",
      "predicted_percentage_of_galaxies: 33.95728974426575\n",
      "true_percentage_of_galaxies: 33.33333333333333\n",
      "\n",
      "predicted_percentage_of_stars: 33.39485016258019\n",
      "true_percentage_of_stars: 33.33333333333333\n",
      "\n",
      "no_of_samples_misclassified_as_quasars: 97\n",
      "samples_misclassified_as_quasars_with_probability_greater_than_0.6: 74.22680412371135\n",
      "samples_misclassified_as_quasars_with_probability_greater_than_0.7: 58.76288659793815\n",
      "samples_misclassified_as_quasars_with_probability_greater_than_0.8: 45.36082474226804\n",
      "samples_misclassified_as_quasars_with_probability_greater_than_0.9: 26.804123711340207\n",
      "samples_misclassified_as_quasars_with_probability_greater_than_0.99: 5.154639175257731\n",
      "\n",
      "no_of_samples_correctly_classified_as_quasars: 3618\n",
      "samples_correctly_classified_as_quasars_with_probability_greater_than_0.6: 99.39192924267552\n",
      "samples_correctly_classified_as_quasars_with_probability_greater_than_0.7: 98.59038142620233\n",
      "samples_correctly_classified_as_quasars_with_probability_greater_than_0.8: 97.8717523493643\n",
      "samples_correctly_classified_as_quasars_with_probability_greater_than_0.9: 95.79878385848535\n",
      "samples_correctly_classified_as_quasars_with_probability_greater_than_0.99: 84.38363736871199\n",
      "\n",
      "\n",
      "\n",
      "no_of_samples_misclassified_as_galaxys: 185\n",
      "samples_misclassified_as_galaxys_with_probability_greater_than_0.6: 88.64864864864866\n",
      "samples_misclassified_as_galaxys_with_probability_greater_than_0.7: 78.91891891891892\n",
      "samples_misclassified_as_galaxys_with_probability_greater_than_0.8: 64.32432432432432\n",
      "samples_misclassified_as_galaxys_with_probability_greater_than_0.9: 47.56756756756757\n",
      "samples_misclassified_as_galaxys_with_probability_greater_than_0.99: 9.18918918918919\n",
      "\n",
      "no_of_samples_correctly_classified_as_galaxys: 3679\n",
      "samples_correctly_classified_as_galaxys_with_probability_greater_than_0.6: 99.26610491981516\n",
      "samples_correctly_classified_as_galaxys_with_probability_greater_than_0.7: 98.07012775210654\n",
      "samples_correctly_classified_as_galaxys_with_probability_greater_than_0.8: 95.70535471595542\n",
      "samples_correctly_classified_as_galaxys_with_probability_greater_than_0.9: 90.67681435172601\n",
      "samples_correctly_classified_as_galaxys_with_probability_greater_than_0.99: 56.727371568360965\n",
      "\n",
      "\n",
      "\n",
      "no_of_samples_misclassified_as_stars: 18\n",
      "samples_misclassified_as_stars_with_probability_greater_than_0.6: 94.44444444444444\n",
      "samples_misclassified_as_stars_with_probability_greater_than_0.7: 88.88888888888889\n",
      "samples_misclassified_as_stars_with_probability_greater_than_0.8: 88.88888888888889\n",
      "samples_misclassified_as_stars_with_probability_greater_than_0.9: 83.33333333333334\n",
      "samples_misclassified_as_stars_with_probability_greater_than_0.99: 38.88888888888889\n",
      "\n",
      "no_of_samples_correctly_classified_as_stars: 3782\n",
      "samples_correctly_classified_as_stars_with_probability_greater_than_0.6: 99.92067689053411\n",
      "samples_correctly_classified_as_stars_with_probability_greater_than_0.7: 99.86779481755684\n",
      "samples_correctly_classified_as_stars_with_probability_greater_than_0.8: 99.78847170809095\n",
      "samples_correctly_classified_as_stars_with_probability_greater_than_0.9: 99.55050237969328\n",
      "samples_correctly_classified_as_stars_with_probability_greater_than_0.99: 98.14912744579588\n",
      "\n",
      "\n",
      "\n"
     ]
    }
   ],
   "source": [
    "hp.classification_probability_displayer(XGB_probs, test_labels)\n"
   ]
  },
  {
   "cell_type": "code",
   "execution_count": null,
   "id": "53b72499-119e-4d5c-b117-3ddbe9f4d7bc",
   "metadata": {},
   "outputs": [],
   "source": []
  },
  {
   "cell_type": "markdown",
   "id": "f91d5e00-e4df-4a12-be64-56b2087f3789",
   "metadata": {},
   "source": [
    "# RF"
   ]
  },
  {
   "cell_type": "code",
   "execution_count": 22,
   "id": "dafab2d5-2569-45b1-8fc8-7b8fab570fbc",
   "metadata": {},
   "outputs": [],
   "source": [
    "#import pickle\n",
    "\n",
    "# Loading the saved RF model from the file\n",
    "with open('RF_model.pkl', 'rb') as file:\n",
    "    RF_model = pickle.load(file)\n"
   ]
  },
  {
   "cell_type": "code",
   "execution_count": 23,
   "id": "908adcfc-177e-4074-bd1b-a6387b0e4865",
   "metadata": {},
   "outputs": [],
   "source": [
    "RF_probs = RF_model.predict_proba(random_testing_data[:,:-1])\n"
   ]
  },
  {
   "cell_type": "code",
   "execution_count": 24,
   "id": "84161d89-6460-4db1-8d1b-3e775b76e8e9",
   "metadata": {},
   "outputs": [
    {
     "data": {
      "text/plain": [
       "array([[0.96, 0.04, 0.  ],\n",
       "       [1.  , 0.  , 0.  ],\n",
       "       [1.  , 0.  , 0.  ],\n",
       "       ...,\n",
       "       [0.  , 0.  , 1.  ],\n",
       "       [0.  , 0.  , 1.  ],\n",
       "       [0.  , 0.  , 1.  ]])"
      ]
     },
     "execution_count": 24,
     "metadata": {},
     "output_type": "execute_result"
    }
   ],
   "source": [
    "RF_probs"
   ]
  },
  {
   "cell_type": "code",
   "execution_count": 25,
   "id": "216b7e4d-7faa-47d4-8ae8-465c8e428599",
   "metadata": {
    "scrolled": true
   },
   "outputs": [
    {
     "name": "stdout",
     "output_type": "stream",
     "text": [
      "total_no_of_samples: 11379\n",
      "no_of_samples_of_each_class: 3793\n",
      "\n",
      "predicted_percentage_of_quasars: 32.51603831619651\n",
      "true_percentage_of_quasars: 33.33333333333333\n",
      "\n",
      "predicted_percentage_of_galaxies: 33.983654099657265\n",
      "true_percentage_of_galaxies: 33.33333333333333\n",
      "\n",
      "predicted_percentage_of_stars: 33.500307584146235\n",
      "true_percentage_of_stars: 33.33333333333333\n",
      "\n",
      "no_of_samples_misclassified_as_quasars: 86\n",
      "samples_misclassified_as_quasars_with_probability_greater_than_0.6: 67.44186046511628\n",
      "samples_misclassified_as_quasars_with_probability_greater_than_0.7: 50.0\n",
      "samples_misclassified_as_quasars_with_probability_greater_than_0.8: 34.883720930232556\n",
      "samples_misclassified_as_quasars_with_probability_greater_than_0.9: 18.6046511627907\n",
      "samples_misclassified_as_quasars_with_probability_greater_than_0.99: 2.3255813953488373\n",
      "\n",
      "no_of_samples_correctly_classified_as_quasars: 3614\n",
      "samples_correctly_classified_as_quasars_with_probability_greater_than_0.6: 99.36358605423354\n",
      "samples_correctly_classified_as_quasars_with_probability_greater_than_0.7: 98.09075816270061\n",
      "samples_correctly_classified_as_quasars_with_probability_greater_than_0.8: 96.18151632540122\n",
      "samples_correctly_classified_as_quasars_with_probability_greater_than_0.9: 92.47371333702269\n",
      "samples_correctly_classified_as_quasars_with_probability_greater_than_0.99: 61.28942999446596\n",
      "\n",
      "\n",
      "\n",
      "no_of_samples_misclassified_as_galaxys: 180\n",
      "samples_misclassified_as_galaxys_with_probability_greater_than_0.6: 78.33333333333333\n",
      "samples_misclassified_as_galaxys_with_probability_greater_than_0.7: 66.11111111111111\n",
      "samples_misclassified_as_galaxys_with_probability_greater_than_0.8: 51.66666666666667\n",
      "samples_misclassified_as_galaxys_with_probability_greater_than_0.9: 33.88888888888889\n",
      "samples_misclassified_as_galaxys_with_probability_greater_than_0.99: 3.888888888888889\n",
      "\n",
      "no_of_samples_correctly_classified_as_galaxys: 3687\n",
      "samples_correctly_classified_as_galaxys_with_probability_greater_than_0.6: 98.39978302142663\n",
      "samples_correctly_classified_as_galaxys_with_probability_greater_than_0.7: 96.31136425278004\n",
      "samples_correctly_classified_as_galaxys_with_probability_greater_than_0.8: 92.37862761052345\n",
      "samples_correctly_classified_as_galaxys_with_probability_greater_than_0.9: 84.32329807431516\n",
      "samples_correctly_classified_as_galaxys_with_probability_greater_than_0.99: 38.269595877407106\n",
      "\n",
      "\n",
      "\n",
      "no_of_samples_misclassified_as_stars: 21\n",
      "samples_misclassified_as_stars_with_probability_greater_than_0.6: 66.66666666666666\n",
      "samples_misclassified_as_stars_with_probability_greater_than_0.7: 42.857142857142854\n",
      "samples_misclassified_as_stars_with_probability_greater_than_0.8: 42.857142857142854\n",
      "samples_misclassified_as_stars_with_probability_greater_than_0.9: 23.809523809523807\n",
      "samples_misclassified_as_stars_with_probability_greater_than_0.99: 4.761904761904762\n",
      "\n",
      "no_of_samples_correctly_classified_as_stars: 3791\n",
      "samples_correctly_classified_as_stars_with_probability_greater_than_0.6: 100.0\n",
      "samples_correctly_classified_as_stars_with_probability_greater_than_0.7: 100.0\n",
      "samples_correctly_classified_as_stars_with_probability_greater_than_0.8: 99.86810867844896\n",
      "samples_correctly_classified_as_stars_with_probability_greater_than_0.9: 99.18227380638353\n",
      "samples_correctly_classified_as_stars_with_probability_greater_than_0.99: 70.35083091532577\n",
      "\n",
      "\n",
      "\n"
     ]
    }
   ],
   "source": [
    "hp.classification_probability_displayer(RF_probs, test_labels)\n"
   ]
  },
  {
   "cell_type": "markdown",
   "id": "b4eb83f6-fd0b-400d-8e36-ceecf600ad42",
   "metadata": {},
   "source": [
    "### Loading the data"
   ]
  },
  {
   "cell_type": "code",
   "execution_count": 26,
   "id": "74ac6bd3-17cb-4bcb-822f-d40e1a89c520",
   "metadata": {},
   "outputs": [
    {
     "name": "stdout",
     "output_type": "stream",
     "text": [
      "[[ 2.113030e+01  1.940762e+01  1.892681e+01 ...  1.880476e+01\n",
      "   1.329481e+00  0.000000e+00]\n",
      " [ 2.244853e+01  2.041406e+01  1.981188e+01 ...  1.917629e+01\n",
      "   3.014199e+00  0.000000e+00]\n",
      " [ 2.495336e+01  2.346644e+01  2.292290e+01 ...  1.994609e+01\n",
      "   1.662880e+00  0.000000e+00]\n",
      " ...\n",
      " [ 2.354228e+01  2.257988e+01  2.096861e+01 ...  1.792593e+01\n",
      "  -1.374289e-04  2.000000e+00]\n",
      " [ 1.728461e+01  1.645497e+01  1.617674e+01 ...  1.601926e+01\n",
      "  -9.069996e-05  2.000000e+00]\n",
      " [ 2.365113e+01  2.126964e+01  1.986834e+01 ...  1.815802e+01\n",
      "  -1.934959e-05  2.000000e+00]]\n"
     ]
    }
   ],
   "source": [
    "file_path = 'random_validation_data_pr.csv'\n",
    "random_validation_data_pr = np.loadtxt(file_path, delimiter=',')\n",
    "print(random_validation_data_pr)\n"
   ]
  },
  {
   "cell_type": "code",
   "execution_count": 27,
   "id": "2d5066da-428d-46d6-8f59-7616dbaa0863",
   "metadata": {},
   "outputs": [],
   "source": [
    "data_points_np = random_validation_data_pr[:,:-1]\n",
    "true_labels    = random_validation_data_pr[:,-1]\n"
   ]
  },
  {
   "cell_type": "markdown",
   "id": "f94e1385-8f80-4012-8935-e98fc4c7d127",
   "metadata": {},
   "source": [
    "### Normlaizing the Data"
   ]
  },
  {
   "cell_type": "code",
   "execution_count": 28,
   "id": "60ccd0cf-6648-47db-ada7-f8b09ca3e0f4",
   "metadata": {},
   "outputs": [
    {
     "name": "stdout",
     "output_type": "stream",
     "text": [
      "[21.76079309 20.48576385 19.7221195  19.27782452 19.01774536  0.7122275 ]\n"
     ]
    }
   ],
   "source": [
    "# loading means for each feature\n",
    "file_path = 'mean.csv'\n",
    "mean = np.loadtxt(file_path, delimiter=',')\n",
    "print(mean)\n"
   ]
  },
  {
   "cell_type": "code",
   "execution_count": 29,
   "id": "b92362d3-d317-4ffb-b2a1-9e06f56b54cc",
   "metadata": {},
   "outputs": [
    {
     "name": "stdout",
     "output_type": "stream",
     "text": [
      "[2.15729241 1.94933203 1.82557934 1.77553013 1.79370263 0.91359578]\n"
     ]
    }
   ],
   "source": [
    "# Loading standard deviations for each feature\n",
    "file_path = 'standard_deviation.csv'\n",
    "std = np.loadtxt(file_path, delimiter=',')\n",
    "print(std)\n"
   ]
  },
  {
   "cell_type": "code",
   "execution_count": 30,
   "id": "825f27fe-27ee-456a-9385-206a7e7a277e",
   "metadata": {},
   "outputs": [],
   "source": [
    "# normalizing the data\n",
    "data_points_np_normalized = data_points_np - mean\n",
    "data_points_np_normalized = data_points_np_normalized/std\n"
   ]
  },
  {
   "cell_type": "code",
   "execution_count": 31,
   "id": "62a98d0d-84a2-4fde-9a54-7fe0ad59ac0f",
   "metadata": {},
   "outputs": [
    {
     "data": {
      "text/plain": [
       "array([[-0.2922613 , -0.55308374, -0.43564773, -0.15116867, -0.11874062,\n",
       "         0.67563086],\n",
       "       [ 0.31879633, -0.0367838 ,  0.04916823,  0.02552222,  0.08838959,\n",
       "         2.51968271],\n",
       "       [ 1.47989531,  1.52907566,  1.75329575,  0.90706176,  0.51755772,\n",
       "         1.04056139],\n",
       "       ...,\n",
       "       [ 0.82579761,  1.07427371,  0.68279174, -0.12558757, -0.60869363,\n",
       "        -0.77973753],\n",
       "       [-2.07490791, -2.06778209, -1.9420572 , -1.80793019, -1.67167362,\n",
       "        -0.77968639],\n",
       "       [ 0.87625437,  0.40212552,  0.08009539, -0.30159698, -0.47930206,\n",
       "        -0.77960829]])"
      ]
     },
     "execution_count": 31,
     "metadata": {},
     "output_type": "execute_result"
    }
   ],
   "source": [
    "data_points_np_normalized\n"
   ]
  },
  {
   "cell_type": "markdown",
   "id": "d53cbc8a-1846-463c-9880-b0f91e394dba",
   "metadata": {},
   "source": [
    "### Loading the weights\n"
   ]
  },
  {
   "cell_type": "code",
   "execution_count": 32,
   "id": "539fec51-10e7-4f6b-8020-97bac9c28b32",
   "metadata": {},
   "outputs": [
    {
     "data": {
      "text/plain": [
       "array([0.00386784, 0.02557878, 0.2786924 , 0.69186098])"
      ]
     },
     "execution_count": 32,
     "metadata": {},
     "output_type": "execute_result"
    }
   ],
   "source": [
    "file_path = 'best_weights.csv'\n",
    "weights = np.loadtxt(file_path, delimiter=',')\n",
    "weights\n"
   ]
  },
  {
   "cell_type": "markdown",
   "id": "11da1cdc-bfa2-4995-9b14-0283ff554fa3",
   "metadata": {},
   "source": [
    "### Ensemble of Models"
   ]
  },
  {
   "cell_type": "code",
   "execution_count": 33,
   "id": "b4da6e26-4019-4f3e-9a0c-de05ad1e5013",
   "metadata": {
    "scrolled": true
   },
   "outputs": [
    {
     "name": "stdout",
     "output_type": "stream",
     "text": [
      "356/356 [==============================] - 1s 2ms/step\n",
      "              precision    recall  f1-score   support\n",
      "\n",
      "         0.0       0.98      0.97      0.97      3792\n",
      "         1.0       0.97      0.97      0.97      3792\n",
      "         2.0       0.99      1.00      1.00      3792\n",
      "\n",
      "    accuracy                           0.98     11376\n",
      "   macro avg       0.98      0.98      0.98     11376\n",
      "weighted avg       0.98      0.98      0.98     11376\n",
      "\n",
      "Accuracy: 0.9807489451476793\n",
      "total_no_of_samples: 11376\n",
      "no_of_samples_of_each_class: 3792\n",
      "\n",
      "predicted_percentage_of_quasars: 32.955344585091424\n",
      "true_percentage_of_quasars: 33.33333333333333\n",
      "\n",
      "predicted_percentage_of_galaxies: 33.50914205344585\n",
      "true_percentage_of_galaxies: 33.33333333333333\n",
      "\n",
      "predicted_percentage_of_stars: 33.535513361462726\n",
      "true_percentage_of_stars: 33.33333333333333\n",
      "\n",
      "no_of_samples_misclassified_as_quasars: 77\n",
      "samples_misclassified_as_quasars_with_probability_greater_than_0.6: 74.02597402597402\n",
      "samples_misclassified_as_quasars_with_probability_greater_than_0.7: 55.84415584415584\n",
      "samples_misclassified_as_quasars_with_probability_greater_than_0.8: 44.15584415584416\n",
      "samples_misclassified_as_quasars_with_probability_greater_than_0.9: 22.07792207792208\n",
      "samples_misclassified_as_quasars_with_probability_greater_than_0.99: 5.194805194805195\n",
      "\n",
      "no_of_samples_correctly_classified_as_quasars: 3672\n",
      "samples_correctly_classified_as_quasars_with_probability_greater_than_0.6: 98.93790849673204\n",
      "samples_correctly_classified_as_quasars_with_probability_greater_than_0.7: 97.87581699346404\n",
      "samples_correctly_classified_as_quasars_with_probability_greater_than_0.8: 96.24183006535948\n",
      "samples_correctly_classified_as_quasars_with_probability_greater_than_0.9: 93.32788671023965\n",
      "samples_correctly_classified_as_quasars_with_probability_greater_than_0.99: 73.96514161220044\n",
      "\n",
      "\n",
      "\n",
      "no_of_samples_misclassified_as_galaxys: 119\n",
      "samples_misclassified_as_galaxys_with_probability_greater_than_0.6: 78.15126050420169\n",
      "samples_misclassified_as_galaxys_with_probability_greater_than_0.7: 60.50420168067227\n",
      "samples_misclassified_as_galaxys_with_probability_greater_than_0.8: 40.33613445378151\n",
      "samples_misclassified_as_galaxys_with_probability_greater_than_0.9: 22.689075630252102\n",
      "samples_misclassified_as_galaxys_with_probability_greater_than_0.99: 3.361344537815126\n",
      "\n",
      "no_of_samples_correctly_classified_as_galaxys: 3693\n",
      "samples_correctly_classified_as_galaxys_with_probability_greater_than_0.6: 98.97102626590848\n",
      "samples_correctly_classified_as_galaxys_with_probability_greater_than_0.7: 97.21093961548877\n",
      "samples_correctly_classified_as_galaxys_with_probability_greater_than_0.8: 94.44895748713783\n",
      "samples_correctly_classified_as_galaxys_with_probability_greater_than_0.9: 86.73165448145139\n",
      "samples_correctly_classified_as_galaxys_with_probability_greater_than_0.99: 44.30002707825616\n",
      "\n",
      "\n",
      "\n",
      "no_of_samples_misclassified_as_stars: 23\n",
      "samples_misclassified_as_stars_with_probability_greater_than_0.6: 100.0\n",
      "samples_misclassified_as_stars_with_probability_greater_than_0.7: 100.0\n",
      "samples_misclassified_as_stars_with_probability_greater_than_0.8: 100.0\n",
      "samples_misclassified_as_stars_with_probability_greater_than_0.9: 82.6086956521739\n",
      "samples_misclassified_as_stars_with_probability_greater_than_0.99: 43.47826086956522\n",
      "\n",
      "no_of_samples_correctly_classified_as_stars: 3792\n",
      "samples_correctly_classified_as_stars_with_probability_greater_than_0.6: 100.0\n",
      "samples_correctly_classified_as_stars_with_probability_greater_than_0.7: 100.0\n",
      "samples_correctly_classified_as_stars_with_probability_greater_than_0.8: 99.92088607594937\n",
      "samples_correctly_classified_as_stars_with_probability_greater_than_0.9: 99.65717299578058\n",
      "samples_correctly_classified_as_stars_with_probability_greater_than_0.99: 82.59493670886076\n",
      "\n",
      "\n",
      "\n"
     ]
    },
    {
     "data": {
      "image/png": "[encoded data removed]",
      "text/plain": [
       "<Figure size 640x480 with 2 Axes>"
      ]
     },
     "metadata": {},
     "output_type": "display_data"
    }
   ],
   "source": [
    "hp.ensemble_of_models_with_true_labels(data_points_np_normalized, true_labels, weights)\n"
   ]
  },
  {
   "cell_type": "code",
   "execution_count": 34,
   "id": "2a398d1d-d6de-4004-8499-4f4444dcedda",
   "metadata": {},
   "outputs": [
    {
     "name": "stdout",
     "output_type": "stream",
     "text": [
      "356/356 [==============================] - 1s 2ms/step\n"
     ]
    },
    {
     "data": {
      "text/html": [
       "<div>\n",
       "<style scoped>\n",
       "    .dataframe tbody tr th:only-of-type {\n",
       "        vertical-align: middle;\n",
       "    }\n",
       "\n",
       "    .dataframe tbody tr th {\n",
       "        vertical-align: top;\n",
       "    }\n",
       "\n",
       "    .dataframe thead th {\n",
       "        text-align: right;\n",
       "    }\n",
       "</style>\n",
       "<table border=\"1\" class=\"dataframe\">\n",
       "  <thead>\n",
       "    <tr style=\"text-align: right;\">\n",
       "      <th></th>\n",
       "      <th>prob_of_being_Quasar</th>\n",
       "      <th>prob_of_being_Galaxy</th>\n",
       "      <th>prob_of_being_Star</th>\n",
       "      <th>predicted_label</th>\n",
       "      <th>Probability_of_Predicted_Class</th>\n",
       "    </tr>\n",
       "    <tr>\n",
       "      <th>sample_no.</th>\n",
       "      <th></th>\n",
       "      <th></th>\n",
       "      <th></th>\n",
       "      <th></th>\n",
       "      <th></th>\n",
       "    </tr>\n",
       "  </thead>\n",
       "  <tbody>\n",
       "    <tr>\n",
       "      <th>0</th>\n",
       "      <td>0.988456</td>\n",
       "      <td>0.011544</td>\n",
       "      <td>8.805809e-07</td>\n",
       "      <td>quasar</td>\n",
       "      <td>0.988456</td>\n",
       "    </tr>\n",
       "    <tr>\n",
       "      <th>1</th>\n",
       "      <td>0.982264</td>\n",
       "      <td>0.017736</td>\n",
       "      <td>3.405106e-07</td>\n",
       "      <td>quasar</td>\n",
       "      <td>0.982264</td>\n",
       "    </tr>\n",
       "    <tr>\n",
       "      <th>2</th>\n",
       "      <td>0.967476</td>\n",
       "      <td>0.025597</td>\n",
       "      <td>6.926800e-03</td>\n",
       "      <td>quasar</td>\n",
       "      <td>0.967476</td>\n",
       "    </tr>\n",
       "    <tr>\n",
       "      <th>3</th>\n",
       "      <td>0.996108</td>\n",
       "      <td>0.003892</td>\n",
       "      <td>7.552455e-08</td>\n",
       "      <td>quasar</td>\n",
       "      <td>0.996108</td>\n",
       "    </tr>\n",
       "    <tr>\n",
       "      <th>4</th>\n",
       "      <td>0.996018</td>\n",
       "      <td>0.003982</td>\n",
       "      <td>8.546170e-08</td>\n",
       "      <td>quasar</td>\n",
       "      <td>0.996018</td>\n",
       "    </tr>\n",
       "    <tr>\n",
       "      <th>...</th>\n",
       "      <td>...</td>\n",
       "      <td>...</td>\n",
       "      <td>...</td>\n",
       "      <td>...</td>\n",
       "      <td>...</td>\n",
       "    </tr>\n",
       "    <tr>\n",
       "      <th>11371</th>\n",
       "      <td>0.000243</td>\n",
       "      <td>0.012075</td>\n",
       "      <td>9.876817e-01</td>\n",
       "      <td>star</td>\n",
       "      <td>0.987682</td>\n",
       "    </tr>\n",
       "    <tr>\n",
       "      <th>11372</th>\n",
       "      <td>0.000032</td>\n",
       "      <td>0.000128</td>\n",
       "      <td>9.998401e-01</td>\n",
       "      <td>star</td>\n",
       "      <td>0.999840</td>\n",
       "    </tr>\n",
       "    <tr>\n",
       "      <th>11373</th>\n",
       "      <td>0.003870</td>\n",
       "      <td>0.007070</td>\n",
       "      <td>9.890600e-01</td>\n",
       "      <td>star</td>\n",
       "      <td>0.989060</td>\n",
       "    </tr>\n",
       "    <tr>\n",
       "      <th>11374</th>\n",
       "      <td>0.000013</td>\n",
       "      <td>0.000960</td>\n",
       "      <td>9.990265e-01</td>\n",
       "      <td>star</td>\n",
       "      <td>0.999027</td>\n",
       "    </tr>\n",
       "    <tr>\n",
       "      <th>11375</th>\n",
       "      <td>0.003871</td>\n",
       "      <td>0.007137</td>\n",
       "      <td>9.889911e-01</td>\n",
       "      <td>star</td>\n",
       "      <td>0.988991</td>\n",
       "    </tr>\n",
       "  </tbody>\n",
       "</table>\n",
       "<p>11376 rows × 5 columns</p>\n",
       "</div>"
      ],
      "text/plain": [
       "            prob_of_being_Quasar  prob_of_being_Galaxy  prob_of_being_Star  \\\n",
       "sample_no.                                                                   \n",
       "0                       0.988456              0.011544        8.805809e-07   \n",
       "1                       0.982264              0.017736        3.405106e-07   \n",
       "2                       0.967476              0.025597        6.926800e-03   \n",
       "3                       0.996108              0.003892        7.552455e-08   \n",
       "4                       0.996018              0.003982        8.546170e-08   \n",
       "...                          ...                   ...                 ...   \n",
       "11371                   0.000243              0.012075        9.876817e-01   \n",
       "11372                   0.000032              0.000128        9.998401e-01   \n",
       "11373                   0.003870              0.007070        9.890600e-01   \n",
       "11374                   0.000013              0.000960        9.990265e-01   \n",
       "11375                   0.003871              0.007137        9.889911e-01   \n",
       "\n",
       "           predicted_label  Probability_of_Predicted_Class  \n",
       "sample_no.                                                  \n",
       "0                   quasar                        0.988456  \n",
       "1                   quasar                        0.982264  \n",
       "2                   quasar                        0.967476  \n",
       "3                   quasar                        0.996108  \n",
       "4                   quasar                        0.996018  \n",
       "...                    ...                             ...  \n",
       "11371                 star                        0.987682  \n",
       "11372                 star                        0.999840  \n",
       "11373                 star                        0.989060  \n",
       "11374                 star                        0.999027  \n",
       "11375                 star                        0.988991  \n",
       "\n",
       "[11376 rows x 5 columns]"
      ]
     },
     "execution_count": 34,
     "metadata": {},
     "output_type": "execute_result"
    }
   ],
   "source": [
    "df = hp.ensemble_of_models_without_true_labels(data_points_np_normalized, weights)\n",
    "df"
   ]
  }
 ],
 "metadata": {
  "kernelspec": {
   "display_name": "Python 3 (ipykernel)",
   "language": "python",
   "name": "python3"
  },
  "language_info": {
   "codemirror_mode": {
    "name": "ipython",
    "version": 3
   },
   "file_extension": ".py",
   "mimetype": "text/x-python",
   "name": "python",
   "nbconvert_exporter": "python",
   "pygments_lexer": "ipython3",
   "version": "3.10.0"
  }
 },
 "nbformat": 4,
 "nbformat_minor": 5
}
