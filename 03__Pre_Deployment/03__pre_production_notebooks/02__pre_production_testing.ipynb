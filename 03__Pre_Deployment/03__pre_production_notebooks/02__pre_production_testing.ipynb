{
 "cells": [
  {
   "cell_type": "code",
   "execution_count": null,
   "id": "684f3488-13b6-4f87-8ce9-07a04ce513c7",
   "metadata": {},
   "outputs": [],
   "source": [
    "import pandas as pd\n",
    "import numpy as np\n",
    "import helping_functions as hp\n"
   ]
  },
  {
   "cell_type": "markdown",
   "id": "dcb611ea-1000-464a-8d85-d81d6b98c8b6",
   "metadata": {},
   "source": [
    "# Loading the data"
   ]
  },
  {
   "cell_type": "code",
   "execution_count": 2,
   "id": "74ac6bd3-17cb-4bcb-822f-d40e1a89c520",
   "metadata": {},
   "outputs": [
    {
     "name": "stdout",
     "output_type": "stream",
     "text": [
      "[[ 2.606402e+01  2.179990e+01  2.039655e+01 ...  1.898354e+01\n",
      "   1.519706e+00  0.000000e+00]\n",
      " [ 2.126908e+01  2.112918e+01  2.087035e+01 ...  2.119987e+01\n",
      "   1.017278e+00  0.000000e+00]\n",
      " [ 2.184970e+01  2.109974e+01  2.097709e+01 ...  2.070095e+01\n",
      "   8.725765e-01  0.000000e+00]\n",
      " ...\n",
      " [ 2.184282e+01  1.947261e+01  1.799182e+01 ...  1.572545e+01\n",
      "  -2.200787e-04  2.000000e+00]\n",
      " [ 2.064649e+01  1.813860e+01  1.708214e+01 ...  1.650428e+01\n",
      "   1.378500e-04  2.000000e+00]\n",
      " [ 1.882153e+01  1.715611e+01  1.650022e+01 ...  1.616350e+01\n",
      "  -3.230427e-04  2.000000e+00]]\n"
     ]
    }
   ],
   "source": [
    "file_path = 'random_validation_data_pr.csv'\n",
    "random_validation_data_pr = np.loadtxt(file_path, delimiter=',')\n",
    "print(random_validation_data_pr)\n"
   ]
  },
  {
   "cell_type": "code",
   "execution_count": 18,
   "id": "4bedec6e-01f3-48c7-8dfa-adbcc1391b02",
   "metadata": {},
   "outputs": [],
   "source": [
    "# for i in range(7):\n",
    "#     print(\"type: \", type(data_points_np[0,i]))\n"
   ]
  },
  {
   "cell_type": "code",
   "execution_count": 3,
   "id": "2d5066da-428d-46d6-8f59-7616dbaa0863",
   "metadata": {},
   "outputs": [],
   "source": [
    "data_points_np = random_validation_data_pr[:,:-1]\n",
    "true_labels    = random_validation_data_pr[:,-1]\n"
   ]
  },
  {
   "cell_type": "code",
   "execution_count": 4,
   "id": "e7a18a09-a78d-4d71-81d6-3d83258be8ba",
   "metadata": {},
   "outputs": [
    {
     "data": {
      "text/plain": [
       "(11376, 6)"
      ]
     },
     "execution_count": 4,
     "metadata": {},
     "output_type": "execute_result"
    }
   ],
   "source": [
    "data_points_np.shape"
   ]
  },
  {
   "cell_type": "markdown",
   "id": "f94e1385-8f80-4012-8935-e98fc4c7d127",
   "metadata": {},
   "source": [
    "# Normlaizing the Data"
   ]
  },
  {
   "cell_type": "code",
   "execution_count": 5,
   "id": "60ccd0cf-6648-47db-ada7-f8b09ca3e0f4",
   "metadata": {},
   "outputs": [
    {
     "name": "stdout",
     "output_type": "stream",
     "text": [
      "[21.76105101 20.47830785 19.71607618 19.27273412 19.01454734  0.71628492]\n"
     ]
    }
   ],
   "source": [
    "# loading means for each feature\n",
    "file_path = 'mean.csv'\n",
    "mean = np.loadtxt(file_path, delimiter=',')\n",
    "print(mean)\n"
   ]
  },
  {
   "cell_type": "code",
   "execution_count": 6,
   "id": "b92362d3-d317-4ffb-b2a1-9e06f56b54cc",
   "metadata": {},
   "outputs": [
    {
     "name": "stdout",
     "output_type": "stream",
     "text": [
      "[2.16722502 1.95323849 1.83108163 1.78140934 1.80325961 0.91708005]\n"
     ]
    }
   ],
   "source": [
    "# Loading standard deviations for each feature\n",
    "file_path = 'standard_deviation.csv'\n",
    "std = np.loadtxt(file_path, delimiter=',')\n",
    "print(std)\n"
   ]
  },
  {
   "cell_type": "code",
   "execution_count": 7,
   "id": "825f27fe-27ee-456a-9385-206a7e7a277e",
   "metadata": {},
   "outputs": [],
   "source": [
    "# normalizing the data\n",
    "data_points_np_normalized = data_points_np - mean\n",
    "data_points_np_normalized = data_points_np_normalized/std\n"
   ]
  },
  {
   "cell_type": "code",
   "execution_count": 8,
   "id": "62a98d0d-84a2-4fde-9a54-7fe0ad59ac0f",
   "metadata": {},
   "outputs": [
    {
     "data": {
      "text/plain": [
       "array([[ 1.98547403,  0.67661586,  0.37162396,  0.18750653, -0.01719516,\n",
       "         0.87606429],\n",
       "       [-0.22700504,  0.33322718,  0.63037813,  0.93127157,  1.21187357,\n",
       "         0.32820808],\n",
       "       [ 0.04090438,  0.31815477,  0.68867154,  0.92211029,  0.93519682,\n",
       "         0.17042306],\n",
       "       ...,\n",
       "       [ 0.03772981, -0.51488738, -0.94165992, -1.54006385, -1.82397328,\n",
       "        -0.78128948],\n",
       "       [-0.51428024, -1.19786082, -1.43845918, -1.44028891, -1.39207208,\n",
       "        -0.78089919],\n",
       "       [-1.35635247, -1.70086647, -1.75626041, -1.68080073, -1.58105208,\n",
       "        -0.78140175]])"
      ]
     },
     "execution_count": 8,
     "metadata": {},
     "output_type": "execute_result"
    }
   ],
   "source": [
    "data_points_np_normalized\n"
   ]
  },
  {
   "cell_type": "markdown",
   "id": "d53cbc8a-1846-463c-9880-b0f91e394dba",
   "metadata": {},
   "source": [
    "# Loading the weights\n"
   ]
  },
  {
   "cell_type": "code",
   "execution_count": 9,
   "id": "539fec51-10e7-4f6b-8020-97bac9c28b32",
   "metadata": {},
   "outputs": [
    {
     "data": {
      "text/plain": [
       "array([0.04232501, 0.19778434, 0.29560327, 0.46428739])"
      ]
     },
     "execution_count": 9,
     "metadata": {},
     "output_type": "execute_result"
    }
   ],
   "source": [
    "file_path = 'best_weights.csv'\n",
    "weights = np.loadtxt(file_path, delimiter=',')\n",
    "weights\n"
   ]
  },
  {
   "cell_type": "markdown",
   "id": "11da1cdc-bfa2-4995-9b14-0283ff554fa3",
   "metadata": {},
   "source": [
    "# Ensemble of Models"
   ]
  },
  {
   "cell_type": "markdown",
   "id": "ddd12d6e-ff8d-42ec-9f20-32a296ca8c9f",
   "metadata": {},
   "source": [
    "## Production Function when true labels are available"
   ]
  },
  {
   "cell_type": "code",
   "execution_count": 10,
   "id": "b4da6e26-4019-4f3e-9a0c-de05ad1e5013",
   "metadata": {},
   "outputs": [
    {
     "name": "stdout",
     "output_type": "stream",
     "text": [
      "\u001b[1m356/356\u001b[0m \u001b[32m━━━━━━━━━━━━━━━━━━━━\u001b[0m\u001b[37m\u001b[0m \u001b[1m0s\u001b[0m 1ms/step  \n",
      "              precision    recall  f1-score   support\n",
      "\n",
      "         0.0       0.97      0.95      0.96      3792\n",
      "         1.0       0.95      0.97      0.96      3792\n",
      "         2.0       1.00      1.00      1.00      3792\n",
      "\n",
      "    accuracy                           0.97     11376\n",
      "   macro avg       0.97      0.97      0.97     11376\n",
      "weighted avg       0.97      0.97      0.97     11376\n",
      "\n",
      "Accuracy: 0.9717827004219409\n",
      "total_no_of_samples: 11376\n",
      "no_of_samples_of_each_class: 3792\n",
      "\n",
      "predicted_percentage_of_quasars: 32.577355836849506\n",
      "true_percentage_of_quasars: 33.33333333333333\n",
      "\n",
      "predicted_percentage_of_galaxies: 33.931082981715896\n",
      "true_percentage_of_galaxies: 33.33333333333333\n",
      "\n",
      "predicted_percentage_of_stars: 33.4915611814346\n",
      "true_percentage_of_stars: 33.33333333333333\n",
      "\n",
      "no_of_samples_misclassified_as_quasars: 110\n",
      "samples_misclassified_as_quasars_with_probability_greater_than_0.6: 71.81818181818181\n",
      "samples_misclassified_as_quasars_with_probability_greater_than_0.7: 57.27272727272727\n",
      "samples_misclassified_as_quasars_with_probability_greater_than_0.8: 38.18181818181819\n",
      "samples_misclassified_as_quasars_with_probability_greater_than_0.9: 20.0\n",
      "samples_misclassified_as_quasars_with_probability_greater_than_0.99: 5.454545454545454\n",
      "\n",
      "no_of_samples_correctly_classified_as_quasars: 3596\n",
      "samples_correctly_classified_as_quasars_with_probability_greater_than_0.6: 99.22135706340379\n",
      "samples_correctly_classified_as_quasars_with_probability_greater_than_0.7: 98.30367074527253\n",
      "samples_correctly_classified_as_quasars_with_probability_greater_than_0.8: 96.85761957730811\n",
      "samples_correctly_classified_as_quasars_with_probability_greater_than_0.9: 93.13125695216907\n",
      "samples_correctly_classified_as_quasars_with_probability_greater_than_0.99: 72.27474972191324\n",
      "\n",
      "\n",
      "\n",
      "no_of_samples_misclassified_as_galaxys: 193\n",
      "samples_misclassified_as_galaxys_with_probability_greater_than_0.6: 87.04663212435233\n",
      "samples_misclassified_as_galaxys_with_probability_greater_than_0.7: 71.50259067357513\n",
      "samples_misclassified_as_galaxys_with_probability_greater_than_0.8: 54.92227979274611\n",
      "samples_misclassified_as_galaxys_with_probability_greater_than_0.9: 30.05181347150259\n",
      "samples_misclassified_as_galaxys_with_probability_greater_than_0.99: 3.6269430051813467\n",
      "\n",
      "no_of_samples_correctly_classified_as_galaxys: 3667\n",
      "samples_correctly_classified_as_galaxys_with_probability_greater_than_0.6: 98.6364875920371\n",
      "samples_correctly_classified_as_galaxys_with_probability_greater_than_0.7: 96.59121898009272\n",
      "samples_correctly_classified_as_galaxys_with_probability_greater_than_0.8: 93.10062721570766\n",
      "samples_correctly_classified_as_galaxys_with_probability_greater_than_0.9: 84.23779656394873\n",
      "samples_correctly_classified_as_galaxys_with_probability_greater_than_0.99: 29.506408508317428\n",
      "\n",
      "\n",
      "\n",
      "no_of_samples_misclassified_as_stars: 18\n",
      "samples_misclassified_as_stars_with_probability_greater_than_0.6: 88.88888888888889\n",
      "samples_misclassified_as_stars_with_probability_greater_than_0.7: 61.111111111111114\n",
      "samples_misclassified_as_stars_with_probability_greater_than_0.8: 50.0\n",
      "samples_misclassified_as_stars_with_probability_greater_than_0.9: 44.44444444444444\n",
      "samples_misclassified_as_stars_with_probability_greater_than_0.99: 16.666666666666664\n",
      "\n",
      "no_of_samples_correctly_classified_as_stars: 3792\n",
      "samples_correctly_classified_as_stars_with_probability_greater_than_0.6: 99.94725738396625\n",
      "samples_correctly_classified_as_stars_with_probability_greater_than_0.7: 99.84177215189874\n",
      "samples_correctly_classified_as_stars_with_probability_greater_than_0.8: 99.7626582278481\n",
      "samples_correctly_classified_as_stars_with_probability_greater_than_0.9: 98.89240506329115\n",
      "samples_correctly_classified_as_stars_with_probability_greater_than_0.99: 51.55590717299579\n",
      "\n",
      "\n",
      "\n"
     ]
    },
    {
     "data": {
      "image/png": "[encoded data removed]",
      "text/plain": [
       "<Figure size 640x480 with 2 Axes>"
      ]
     },
     "metadata": {},
     "output_type": "display_data"
    }
   ],
   "source": [
    "hp.ensemble_of_models_with_true_labels(data_points_np_normalized, true_labels, weights)\n"
   ]
  },
  {
   "cell_type": "markdown",
   "id": "5a428362-91c6-48d1-b916-e29b4eab7dfc",
   "metadata": {},
   "source": [
    "## Production Function when true labels are NOT available"
   ]
  },
  {
   "cell_type": "code",
   "execution_count": 11,
   "id": "2a398d1d-d6de-4004-8499-4f4444dcedda",
   "metadata": {},
   "outputs": [
    {
     "name": "stdout",
     "output_type": "stream",
     "text": [
      "\u001b[1m356/356\u001b[0m \u001b[32m━━━━━━━━━━━━━━━━━━━━\u001b[0m\u001b[37m\u001b[0m \u001b[1m0s\u001b[0m 1ms/step  \n"
     ]
    },
    {
     "data": {
      "text/html": [
       "<div>\n",
       "<style scoped>\n",
       "    .dataframe tbody tr th:only-of-type {\n",
       "        vertical-align: middle;\n",
       "    }\n",
       "\n",
       "    .dataframe tbody tr th {\n",
       "        vertical-align: top;\n",
       "    }\n",
       "\n",
       "    .dataframe thead th {\n",
       "        text-align: right;\n",
       "    }\n",
       "</style>\n",
       "<table border=\"1\" class=\"dataframe\">\n",
       "  <thead>\n",
       "    <tr style=\"text-align: right;\">\n",
       "      <th></th>\n",
       "      <th>prob_of_being_Quasar</th>\n",
       "      <th>prob_of_being_Galaxy</th>\n",
       "      <th>prob_of_being_Star</th>\n",
       "      <th>predicted_label</th>\n",
       "      <th>Probability_of_Predicted_Class</th>\n",
       "    </tr>\n",
       "    <tr>\n",
       "      <th>sample_no.</th>\n",
       "      <th></th>\n",
       "      <th></th>\n",
       "      <th></th>\n",
       "      <th></th>\n",
       "      <th></th>\n",
       "    </tr>\n",
       "  </thead>\n",
       "  <tbody>\n",
       "    <tr>\n",
       "      <th>0</th>\n",
       "      <td>9.165790e-01</td>\n",
       "      <td>0.083416</td>\n",
       "      <td>0.000005</td>\n",
       "      <td>quasar</td>\n",
       "      <td>0.916579</td>\n",
       "    </tr>\n",
       "    <tr>\n",
       "      <th>1</th>\n",
       "      <td>9.496041e-01</td>\n",
       "      <td>0.008181</td>\n",
       "      <td>0.042214</td>\n",
       "      <td>quasar</td>\n",
       "      <td>0.949604</td>\n",
       "    </tr>\n",
       "    <tr>\n",
       "      <th>2</th>\n",
       "      <td>9.543522e-01</td>\n",
       "      <td>0.003451</td>\n",
       "      <td>0.042197</td>\n",
       "      <td>quasar</td>\n",
       "      <td>0.954352</td>\n",
       "    </tr>\n",
       "    <tr>\n",
       "      <th>3</th>\n",
       "      <td>8.297878e-01</td>\n",
       "      <td>0.128687</td>\n",
       "      <td>0.041526</td>\n",
       "      <td>quasar</td>\n",
       "      <td>0.829788</td>\n",
       "    </tr>\n",
       "    <tr>\n",
       "      <th>4</th>\n",
       "      <td>9.576018e-01</td>\n",
       "      <td>0.000073</td>\n",
       "      <td>0.042325</td>\n",
       "      <td>quasar</td>\n",
       "      <td>0.957602</td>\n",
       "    </tr>\n",
       "    <tr>\n",
       "      <th>...</th>\n",
       "      <td>...</td>\n",
       "      <td>...</td>\n",
       "      <td>...</td>\n",
       "      <td>...</td>\n",
       "      <td>...</td>\n",
       "    </tr>\n",
       "    <tr>\n",
       "      <th>11371</th>\n",
       "      <td>4.233787e-02</td>\n",
       "      <td>0.003405</td>\n",
       "      <td>0.954257</td>\n",
       "      <td>star</td>\n",
       "      <td>0.954257</td>\n",
       "    </tr>\n",
       "    <tr>\n",
       "      <th>11372</th>\n",
       "      <td>1.881413e-04</td>\n",
       "      <td>0.038217</td>\n",
       "      <td>0.961594</td>\n",
       "      <td>star</td>\n",
       "      <td>0.961594</td>\n",
       "    </tr>\n",
       "    <tr>\n",
       "      <th>11373</th>\n",
       "      <td>2.867099e-07</td>\n",
       "      <td>0.042671</td>\n",
       "      <td>0.957329</td>\n",
       "      <td>star</td>\n",
       "      <td>0.957329</td>\n",
       "    </tr>\n",
       "    <tr>\n",
       "      <th>11374</th>\n",
       "      <td>4.232484e-02</td>\n",
       "      <td>0.000849</td>\n",
       "      <td>0.956827</td>\n",
       "      <td>star</td>\n",
       "      <td>0.956827</td>\n",
       "    </tr>\n",
       "    <tr>\n",
       "      <th>11375</th>\n",
       "      <td>4.233120e-02</td>\n",
       "      <td>0.001715</td>\n",
       "      <td>0.955954</td>\n",
       "      <td>star</td>\n",
       "      <td>0.955954</td>\n",
       "    </tr>\n",
       "  </tbody>\n",
       "</table>\n",
       "<p>11376 rows × 5 columns</p>\n",
       "</div>"
      ],
      "text/plain": [
       "            prob_of_being_Quasar  prob_of_being_Galaxy  prob_of_being_Star  \\\n",
       "sample_no.                                                                   \n",
       "0                   9.165790e-01              0.083416            0.000005   \n",
       "1                   9.496041e-01              0.008181            0.042214   \n",
       "2                   9.543522e-01              0.003451            0.042197   \n",
       "3                   8.297878e-01              0.128687            0.041526   \n",
       "4                   9.576018e-01              0.000073            0.042325   \n",
       "...                          ...                   ...                 ...   \n",
       "11371               4.233787e-02              0.003405            0.954257   \n",
       "11372               1.881413e-04              0.038217            0.961594   \n",
       "11373               2.867099e-07              0.042671            0.957329   \n",
       "11374               4.232484e-02              0.000849            0.956827   \n",
       "11375               4.233120e-02              0.001715            0.955954   \n",
       "\n",
       "           predicted_label  Probability_of_Predicted_Class  \n",
       "sample_no.                                                  \n",
       "0                   quasar                        0.916579  \n",
       "1                   quasar                        0.949604  \n",
       "2                   quasar                        0.954352  \n",
       "3                   quasar                        0.829788  \n",
       "4                   quasar                        0.957602  \n",
       "...                    ...                             ...  \n",
       "11371                 star                        0.954257  \n",
       "11372                 star                        0.961594  \n",
       "11373                 star                        0.957329  \n",
       "11374                 star                        0.956827  \n",
       "11375                 star                        0.955954  \n",
       "\n",
       "[11376 rows x 5 columns]"
      ]
     },
     "execution_count": 11,
     "metadata": {},
     "output_type": "execute_result"
    }
   ],
   "source": [
    "df = hp.ensemble_of_models_without_true_labels(data_points_np_normalized, weights)\n",
    "df"
   ]
  },
  {
   "cell_type": "code",
   "execution_count": null,
   "id": "a1506ee8-9dc7-40f3-a5fa-135804c44521",
   "metadata": {},
   "outputs": [],
   "source": []
  }
 ],
 "metadata": {
  "kernelspec": {
   "display_name": "Python 3 (ipykernel)",
   "language": "python",
   "name": "python3"
  },
  "language_info": {
   "codemirror_mode": {
    "name": "ipython",
    "version": 3
   },
   "file_extension": ".py",
   "mimetype": "text/x-python",
   "name": "python",
   "nbconvert_exporter": "python",
   "pygments_lexer": "ipython3",
   "version": "3.10.16"
  }
 },
 "nbformat": 4,
 "nbformat_minor": 5
}
